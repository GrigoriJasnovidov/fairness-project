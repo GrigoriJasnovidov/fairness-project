{
 "cells": [
  {
   "cell_type": "markdown",
   "id": "b73ea130",
   "metadata": {},
   "source": [
    "# Introduction\n",
    "In this notebook we will take some data and try to solve multiclass classification problem with fairness constraint 'independence'. The data will be taken from fairlearn package; we will try to predict age group of an induvidual \n",
    "using this information. The sensitive feature will be gender."
   ]
  },
  {
   "cell_type": "code",
   "execution_count": 583,
   "id": "b8b0d255",
   "metadata": {},
   "outputs": [],
   "source": [
    "import pandas as pd\n",
    "import numpy as np\n",
    "import matplotlib.pyplot as plt\n",
    "import sklearn\n",
    "import scipy.optimize\n",
    "\n",
    "import fairlearn\n",
    "from fairlearn.metrics import MetricFrame\n",
    "from fairlearn.datasets import *\n",
    "\n",
    "from sklearn.model_selection import train_test_split\n",
    "from sklearn.ensemble import RandomForestClassifier\n",
    "from sklearn.metrics import accuracy_score,confusion_matrix\n",
    "import lightgbm as lgb"
   ]
  },
  {
   "cell_type": "code",
   "execution_count": 584,
   "id": "82102e47",
   "metadata": {},
   "outputs": [],
   "source": [
    "# take a data set from fairlearn and then prepare it for classification\n",
    "data = fetch_adult(as_frame = True)\n",
    "full_d = data['data']\n",
    "full_d['salary'] = data['target'].map({'<=50K':0, '>50K':1})\n",
    "\n",
    "del full_d['education-num']\n",
    "dum_cols = ['workclass', 'education', 'marital-status', 'occupation', 'relationship','race','sex','native-country']\n",
    "full_d = pd.get_dummies(full_d,columns = dum_cols,dummy_na = True, drop_first = True)\n",
    "\n",
    "# this function split numerical age into one of three age groups\n",
    "def old(x):\n",
    "    if x <35: \n",
    "        return 0\n",
    "    elif 35<= x<= 55:\n",
    "        return 1\n",
    "    else:\n",
    "        return 2\n",
    "full_d.age = full_d.age.apply(old)"
   ]
  },
  {
   "cell_type": "code",
   "execution_count": 585,
   "id": "6aec15c9",
   "metadata": {},
   "outputs": [],
   "source": [
    "# randomly shuffle the data set to get more unbiased results\n",
    "number_observ = full_d.shape[0]\n",
    "full_d = full_d.sample(number_observ)"
   ]
  },
  {
   "cell_type": "code",
   "execution_count": 586,
   "id": "63f7f5fe",
   "metadata": {},
   "outputs": [],
   "source": [
    "# we take 14000 first observations; more observations cannot be taken due the \n",
    "# complexity of the linear-programming problem\n",
    "d = full_d\n",
    "# create train and test observations\n",
    "y = d.drop(['age'],axis=1)\n",
    "x = d['age']\n",
    "y_train,y_test,x_train,x_test = train_test_split(y,x)"
   ]
  },
  {
   "cell_type": "code",
   "execution_count": 587,
   "id": "ec02437d",
   "metadata": {},
   "outputs": [
    {
     "data": {
      "text/plain": [
       "1    21585\n",
       "0    21009\n",
       "2     6248\n",
       "Name: age, dtype: int64"
      ]
     },
     "execution_count": 587,
     "metadata": {},
     "output_type": "execute_result"
    }
   ],
   "source": [
    "# distribution of age group\n",
    "d.age.value_counts()"
   ]
  },
  {
   "cell_type": "code",
   "execution_count": 588,
   "id": "79bba3f8",
   "metadata": {},
   "outputs": [
    {
     "data": {
      "text/plain": [
       "0.44193521968797345"
      ]
     },
     "execution_count": 588,
     "metadata": {},
     "output_type": "execute_result"
    }
   ],
   "source": [
    "# accuracy of the baseline predictor\n",
    "d.age.value_counts().max()/d.shape[0]"
   ]
  },
  {
   "cell_type": "code",
   "execution_count": 589,
   "id": "cc7bf0dc",
   "metadata": {},
   "outputs": [
    {
     "data": {
      "text/plain": [
       "0.6862664810416838"
      ]
     },
     "execution_count": 589,
     "metadata": {},
     "output_type": "execute_result"
    }
   ],
   "source": [
    "# we take some classifier that gives significant improvement against the baseline predictor and\n",
    "# fit it on the data\n",
    "lg = lgb.LGBMClassifier()\n",
    "lg.fit(y_train,x_train)\n",
    "lg_pred= lg.predict(y_test)\n",
    "accuracy_score(lg_pred, x_test)"
   ]
  },
  {
   "cell_type": "markdown",
   "id": "cc507d83",
   "metadata": {},
   "source": [
    "# Fairness approach; training\n",
    "In this section we train the fair classifier\n"
   ]
  },
  {
   "cell_type": "code",
   "execution_count": 590,
   "id": "cf03ff58",
   "metadata": {},
   "outputs": [],
   "source": [
    "# here we create male/female train/test features/labels\n",
    "female_train_features = y_train[y_train['sex_Male']==0]\n",
    "male_train_features = y_train[y_train['sex_Male']==1]\n",
    "female_train_labels = x_train[female_train_features.index]\n",
    "male_train_labels = x_train[male_train_features.index]\n",
    "\n",
    "female_test_features = y_test[y_test['sex_Male']==0]\n",
    "male_test_features = y_test[y_test['sex_Male']==1]\n",
    "female_test_labels = x_test[female_test_features.index]\n",
    "male_test_labels = x_test[male_test_features.index]\n",
    "\n",
    "# f,m stand for amount of females and males in the training set\n",
    "f = female_train_features.shape[0]\n",
    "m = male_train_features.shape[0]"
   ]
  },
  {
   "cell_type": "code",
   "execution_count": 591,
   "id": "1e24aa83",
   "metadata": {},
   "outputs": [
    {
     "data": {
      "text/plain": [
       "sex_Male\n",
       "0    0.708075\n",
       "1    0.675544\n",
       "Name: accuracy_score, dtype: object"
      ]
     },
     "execution_count": 591,
     "metadata": {},
     "output_type": "execute_result"
    }
   ],
   "source": [
    "# look at the fairness results\n",
    "mf= MetricFrame(metrics=accuracy_score, y_pred=lg_pred, y_true=x_test,sensitive_features = y_test['sex_Male'])\n",
    "mf.by_group"
   ]
  },
  {
   "cell_type": "code",
   "execution_count": 592,
   "id": "8d956048",
   "metadata": {},
   "outputs": [],
   "source": [
    "# here we create vectors of male/female probabilities. \n",
    "#Later on they will be passed as an input to the linear programming problem\n",
    "male_train_probs = pd.DataFrame(lg.predict_proba(male_train_features)).rename(\n",
    "    columns = {0:'zero_class',1:'first_class', 2:'second_class'})\n",
    "female_train_probs = pd.DataFrame(lg.predict_proba(female_train_features)).rename(\n",
    "    columns = {0:'zero_class',1:'first_class', 2:'second_class'})"
   ]
  },
  {
   "cell_type": "code",
   "execution_count": 593,
   "id": "ff5f5328",
   "metadata": {},
   "outputs": [
    {
     "data": {
      "text/plain": [
       "(0.6678496355545849, 0.33215036444541507, 191, 127, 63)"
      ]
     },
     "execution_count": 593,
     "metadata": {},
     "output_type": "execute_result"
    }
   ],
   "source": [
    "#here we compute amount of males and females in each sample and sample size\n",
    "m_ratio = m/(m+f)\n",
    "f_ratio = f/(m+f)\n",
    "group = int(np.sqrt(m+f))\n",
    "m_group = int(m_ratio*group)\n",
    "f_group = int(f_ratio*group)\n",
    "#m_ratio, f_ratio, group, m_group, f_group"
   ]
  },
  {
   "cell_type": "code",
   "execution_count": 594,
   "id": "6e79de36",
   "metadata": {},
   "outputs": [],
   "source": [
    "#here we create function that converts 0-1 array to classes 0,1 and 2   \n",
    "def zeros_ones_to_classes(x,length = 3):\n",
    "    n = int(len(x)/length)\n",
    "    l = []\n",
    "    for i in range(n):\n",
    "        z = x[i*length:i*length+length]\n",
    "        l.append(z.argmax())\n",
    "    return np.array(l, dtype=int)"
   ]
  },
  {
   "cell_type": "code",
   "execution_count": 596,
   "id": "256046ff",
   "metadata": {},
   "outputs": [],
   "source": [
    "# here we create male and female random forest arrays\n",
    "male_forest_array = []\n",
    "female_forest_array = []"
   ]
  },
  {
   "cell_type": "code",
   "execution_count": 597,
   "id": "cd924c79",
   "metadata": {},
   "outputs": [
    {
     "name": "stdout",
     "output_type": "stream",
     "text": [
      "Wall time: 3min 42s\n"
     ]
    }
   ],
   "source": [
    "# here we solve linear programming problems and create a set of male/female random froest classifiers\n",
    "%%time\n",
    "\n",
    "# create parameters for linear progrmamms; their are the same for all samples\n",
    "m = m_group\n",
    "f = f_group\n",
    "\n",
    "bounds = []\n",
    "for i in range(3*m+3*f):\n",
    "    bounds.append((0,1))\n",
    "\n",
    "equation_vector = [1]*(m+f)\n",
    "for i in range(3):\n",
    "    equation_vector.append(0)\n",
    "\n",
    "equation_matrix = np.zeros((m+f+3,3*f+3*m))\n",
    "for i in range(f+m):\n",
    "    equation_matrix[i,3*i] = 1\n",
    "    equation_matrix[i,3*i+1] = 1\n",
    "    equation_matrix[i,3*i+2] = 1\n",
    "for i in range(3):\n",
    "    for j in range(m):\n",
    "        equation_matrix[f+m+i,3*j+i] = f\n",
    "    for j in range(f):\n",
    "        equation_matrix[f+m+i, 3*m+3*j+i]=-m\n",
    "x= 5*group\n",
    "\n",
    "#solving linear programm; each solution will result in one male and one female random forest\n",
    "for k in range(x):\n",
    "    male_sample = np.array(male_train_probs.sample(m_group))\n",
    "    female_sample = np.array(female_train_probs.sample(f_group))\n",
    "    C = male_sample.ravel()\n",
    "    B = female_sample.ravel()\n",
    "    objective = (-1)*np.concatenate((C,B))\n",
    "\n",
    "    array = scipy.optimize.linprog(\n",
    "        c = objective, A_ub=None, b_ub=None, \n",
    "                       A_eq=equation_matrix, \n",
    "                       b_eq=equation_vector, \n",
    "        bounds=bounds, method='highs-ipm', callback=None, options=None, x0=None).x\n",
    "\n",
    "# finally create vectors of fair predictions\n",
    "    fair_pred = zeros_ones_to_classes(array)\n",
    "    fair_pred_male = fair_pred[:m]\n",
    "    fair_pred_female = fair_pred[m:]\n",
    "\n",
    "# here we prepare classes to relabeling\n",
    "    mdf = pd.DataFrame(male_sample, columns = ['zero_class', 'first_class','second_class'])\n",
    "    male_features_after_classif = mdf.copy()\n",
    "    mdf['fair'] = fair_pred_male\n",
    "    fdf = pd.DataFrame(female_sample, columns = ['zero_class', 'first_class','second_class'])\n",
    "    female_features_after_classif = fdf.copy()\n",
    "    fdf['fair'] = fair_pred_female\n",
    "\n",
    "# create male and female random forest classifiers \n",
    "    m_rf = RandomForestClassifier()\n",
    "    m_rf.fit(male_features_after_classif,mdf['fair'])\n",
    "    f_rf = RandomForestClassifier()\n",
    "    f_rf.fit(female_features_after_classif,fdf['fair']);\n",
    "    male_forest_array.append(m_rf)\n",
    "    female_forest_array.append(f_rf)"
   ]
  },
  {
   "cell_type": "markdown",
   "id": "25f25e8e",
   "metadata": {},
   "source": [
    "# Fairness approach: testing \n",
    "In this section we will test performance of the algoritm on test set"
   ]
  },
  {
   "cell_type": "code",
   "execution_count": 598,
   "id": "275c1094",
   "metadata": {},
   "outputs": [],
   "source": [
    "#save random forests arrays; both have length = 5*group\n",
    "male_forest_array_copy = male_forest_array.copy()\n",
    "female_forest_array_copy = female_forest_array.copy()"
   ]
  },
  {
   "cell_type": "code",
   "execution_count": 599,
   "id": "d98d2092",
   "metadata": {},
   "outputs": [],
   "source": [
    "# consider male and female test parts\n",
    "female_test_features = y_test[y_test['sex_Male']==0]\n",
    "male_test_features = y_test[y_test['sex_Male']==1]\n",
    "female_test_labels = x_test[female_test_features.index]\n",
    "male_test_labels = x_test[male_test_features.index]"
   ]
  },
  {
   "cell_type": "code",
   "execution_count": 601,
   "id": "735a509b",
   "metadata": {},
   "outputs": [],
   "source": [
    "# get predictions/probabilities on male and female parts\n",
    "val_male_predictions = lg.predict(male_test_features)\n",
    "val_female_predictions = lg.predict(female_test_features)\n",
    "val_male_probs = lg.predict_proba(male_test_features)\n",
    "val_female_probs = lg.predict_proba(female_test_features)"
   ]
  },
  {
   "cell_type": "code",
   "execution_count": 602,
   "id": "a4ce39c9",
   "metadata": {},
   "outputs": [],
   "source": [
    "# prepare to create the matrices of male/female predictions\n",
    "val_male_index = male_test_features.index\n",
    "val_female_index = female_test_features.index\n",
    "\n",
    "male_rows = val_male_index.shape[0]\n",
    "male_cols = len(male_forest_array)\n",
    "female_rows = val_female_index.shape[0]\n",
    "female_cols = len(female_forest_array)"
   ]
  },
  {
   "cell_type": "code",
   "execution_count": 604,
   "id": "0611ca80",
   "metadata": {},
   "outputs": [
    {
     "name": "stdout",
     "output_type": "stream",
     "text": [
      "Wall time: 52.1 s\n"
     ]
    }
   ],
   "source": [
    "%%time\n",
    "# male matrices of predictions; each column is a result of applying one of male random forests on whole male-test set \n",
    "male_final_array = np.empty(shape = (male_cols,male_rows))\n",
    "for i in range(male_cols):\n",
    "    male_final_array[i] = male_forest_array[i].predict(val_male_probs)\n",
    "male_final_array = pd.DataFrame(male_final_array)"
   ]
  },
  {
   "cell_type": "code",
   "execution_count": 605,
   "id": "45df0d28",
   "metadata": {},
   "outputs": [
    {
     "name": "stdout",
     "output_type": "stream",
     "text": [
      "Wall time: 34.9 s\n"
     ]
    }
   ],
   "source": [
    "%%time\n",
    "# female matrices of predictions; each column is a result of applying one of female random forests on whole female-test set \n",
    "female_final_array = np.empty(shape = (female_cols,female_rows))\n",
    "for i in range(female_cols):\n",
    "    female_final_array[i] = female_forest_array[i].predict(val_female_probs)\n",
    "female_final_array = pd.DataFrame(female_final_array)"
   ]
  },
  {
   "cell_type": "code",
   "execution_count": 606,
   "id": "09d8bd72",
   "metadata": {},
   "outputs": [],
   "source": [
    "# create of answer lists; \n",
    "male_final_ans = []\n",
    "for i in range(male_rows):\n",
    "    male_final_ans.append(male_final_array[i].value_counts().sort_values(ascending = False).index[0])\n",
    "female_final_ans = []\n",
    "for i in range(female_rows):\n",
    "    female_final_ans.append(female_final_array[i].value_counts().sort_values(ascending = False).index[0])"
   ]
  },
  {
   "cell_type": "code",
   "execution_count": 607,
   "id": "fe7155c0",
   "metadata": {},
   "outputs": [
    {
     "name": "stdout",
     "output_type": "stream",
     "text": [
      "0.6755436110432446 0.7080745341614907 0.032530923118246124\n"
     ]
    }
   ],
   "source": [
    "# getting accuracy scores and unfairness for unfair model\n",
    "print(accuracy_score(val_male_predictions, male_test_labels),accuracy_score(val_female_predictions, female_test_labels),\n",
    "      abs(accuracy_score(val_male_predictions, male_test_labels)-accuracy_score(val_female_predictions, female_test_labels)))"
   ]
  },
  {
   "cell_type": "code",
   "execution_count": 608,
   "id": "6dec6b5b",
   "metadata": {},
   "outputs": [
    {
     "name": "stdout",
     "output_type": "stream",
     "text": [
      "0.6705350598582946 0.7001242236024845 0.02958916374418985\n"
     ]
    }
   ],
   "source": [
    "# getting accuracy scores and unfairness for fair model\n",
    "print(accuracy_score(male_final_ans,male_test_labels), accuracy_score(female_final_ans,female_test_labels),\n",
    "     abs(accuracy_score(male_final_ans,male_test_labels)- accuracy_score(female_final_ans,female_test_labels)))"
   ]
  },
  {
   "cell_type": "code",
   "execution_count": 609,
   "id": "59fdf5d8",
   "metadata": {},
   "outputs": [],
   "source": [
    "# create lists of results\n",
    "unfair.append(abs(accuracy_score(val_male_predictions, male_test_labels)-accuracy_score(val_female_predictions, female_test_labels)))\n",
    "fair.append(abs(accuracy_score(male_final_ans,male_test_labels)- accuracy_score(female_final_ans,female_test_labels)))"
   ]
  },
  {
   "cell_type": "markdown",
   "id": "13dbcfa4",
   "metadata": {},
   "source": [
    "# Analysis of the Results"
   ]
  },
  {
   "cell_type": "code",
   "execution_count": 620,
   "id": "98e59f92",
   "metadata": {},
   "outputs": [],
   "source": [
    "# the results after 18 trial; each trial takes approximately 6 min\n",
    "unfair = np.array([0.04356870247481859,\n",
    " 0.05430315270860586,\n",
    " 0.029528792445345675,\n",
    " 0.05546402471844358,\n",
    " 0.02119821752307005,\n",
    " 0.047011019238018426,\n",
    " 0.045165563376309836,\n",
    " 0.04287649481781064,\n",
    " 0.02604227707563156,\n",
    " 0.04022144595231869,\n",
    " 0.03558647368699175,\n",
    " 0.05275884645572859,\n",
    " 0.025414585281194446,\n",
    " 0.035362281125826844,\n",
    " 0.03441691871812913,\n",
    " 0.03188968658298774,\n",
    " 0.01902837931208823,\n",
    " 0.032530923118246124])\n",
    "\n",
    "fair = np.array([0.0363766390288528,\n",
    " 0.0519313916748908,\n",
    " 0.023111563864160245,\n",
    " 0.05051368316609928,\n",
    " 0.02577564874560523,\n",
    " 0.03447997472073139,\n",
    " 0.035409152816624156,\n",
    " 0.03974337471362488,\n",
    " 0.027791181655296482,\n",
    " 0.026664714110636756,\n",
    " 0.026553291411335445,\n",
    " 0.050952305362546135,\n",
    " 0.024845164949514165,\n",
    " 0.02961086302534288,\n",
    " 0.02863560910493712,\n",
    " 0.02737896085731084,\n",
    " 0.01679196613122691,\n",
    " 0.02958916374418985])"
   ]
  },
  {
   "cell_type": "code",
   "execution_count": 623,
   "id": "57786f37",
   "metadata": {},
   "outputs": [
    {
     "data": {
      "text/plain": [
       "(0.5861546490829254,\n",
       " 0.6723677846115658,\n",
       " 0.03256414717127363,\n",
       " 0.037353765811753654,\n",
       " 9.503486227837096e-05,\n",
       " 0.00011564399535887001)"
      ]
     },
     "execution_count": 623,
     "metadata": {},
     "output_type": "execute_result"
    }
   ],
   "source": [
    "# some statistics about the results\n",
    "fair.sum(), unfair.sum(),fair.mean(), unfair.mean(), fair.var(), unfair.var()"
   ]
  },
  {
   "cell_type": "markdown",
   "id": "32fc8f61",
   "metadata": {},
   "source": [
    "After some trials it seems that this approach improves fairness measure 'independence' a little bit.The improvement seems to be quite small but still it exists. The accuracy typically goes down a litlle bit after post-processing."
   ]
  }
 ],
 "metadata": {
  "kernelspec": {
   "display_name": "Python 3 (ipykernel)",
   "language": "python",
   "name": "python3"
  },
  "language_info": {
   "codemirror_mode": {
    "name": "ipython",
    "version": 3
   },
   "file_extension": ".py",
   "mimetype": "text/x-python",
   "name": "python",
   "nbconvert_exporter": "python",
   "pygments_lexer": "ipython3",
   "version": "3.9.7"
  }
 },
 "nbformat": 4,
 "nbformat_minor": 5
}
